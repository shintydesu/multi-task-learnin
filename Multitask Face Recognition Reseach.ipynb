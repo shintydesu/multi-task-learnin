{
 "cells": [
  {
   "cell_type": "code",
   "execution_count": 13,
   "id": "6b0e43cb",
   "metadata": {},
   "outputs": [],
   "source": [
    "import pandas as pd\n",
    "import os\n",
    "import re"
   ]
  },
  {
   "cell_type": "code",
   "execution_count": 14,
   "id": "b0f46935-4725-4143-9e2c-346d73611a14",
   "metadata": {},
   "outputs": [],
   "source": [
    "def parse_filename(filename, directory):\n",
    "    pattern = r\"(\\d+)_(\\d+)_(\\d+)_(\\d{8}\\d{9})\\.jpg\"\n",
    "    match = re.match(pattern, filename)\n",
    "    if match:\n",
    "        return match.groups() + (os.path.join(directory, filename),)\n",
    "    else:\n",
    "        return None"
   ]
  },
  {
   "cell_type": "code",
   "execution_count": 15,
   "id": "29434b7a",
   "metadata": {},
   "outputs": [],
   "source": [
    "directory = r'C:\\Users\\shint\\Documents\\Multitask Learning Research\\part1'\n",
    "filenames = [f for f in os.listdir(directory) if f.endswith('.jpg')]"
   ]
  },
  {
   "cell_type": "code",
   "execution_count": 16,
   "id": "8c2280ce",
   "metadata": {},
   "outputs": [
    {
     "data": {
      "text/plain": [
       "['100_1_0_20170110183726390.jpg',\n",
       " '100_1_2_20170105174847679.jpg',\n",
       " '100_1_2_20170110182836729.jpg',\n",
       " '101_1_2_20170105174739309.jpg',\n",
       " '10_0_0_20161220222308131.jpg']"
      ]
     },
     "execution_count": 16,
     "metadata": {},
     "output_type": "execute_result"
    }
   ],
   "source": [
    "filenames[0:5]"
   ]
  },
  {
   "cell_type": "code",
   "execution_count": 17,
   "id": "373078a9",
   "metadata": {},
   "outputs": [],
   "source": [
    "data = [parse_filename(f, directory) for f in filenames]\n",
    "data = [d for d in data if d is not None]  # Filter out None values\n",
    "\n",
    "df = pd.DataFrame(data, columns=['Age', 'Gender', 'Race', 'DateTime', 'FilePath'])"
   ]
  },
  {
   "cell_type": "code",
   "execution_count": 18,
   "id": "575f458d",
   "metadata": {},
   "outputs": [
    {
     "data": {
      "text/html": [
       "<div>\n",
       "<style scoped>\n",
       "    .dataframe tbody tr th:only-of-type {\n",
       "        vertical-align: middle;\n",
       "    }\n",
       "\n",
       "    .dataframe tbody tr th {\n",
       "        vertical-align: top;\n",
       "    }\n",
       "\n",
       "    .dataframe thead th {\n",
       "        text-align: right;\n",
       "    }\n",
       "</style>\n",
       "<table border=\"1\" class=\"dataframe\">\n",
       "  <thead>\n",
       "    <tr style=\"text-align: right;\">\n",
       "      <th></th>\n",
       "      <th>Age</th>\n",
       "      <th>Gender</th>\n",
       "      <th>Race</th>\n",
       "      <th>DateTime</th>\n",
       "      <th>FilePath</th>\n",
       "    </tr>\n",
       "  </thead>\n",
       "  <tbody>\n",
       "    <tr>\n",
       "      <th>0</th>\n",
       "      <td>100</td>\n",
       "      <td>1</td>\n",
       "      <td>0</td>\n",
       "      <td>20170110183726390</td>\n",
       "      <td>C:\\Users\\shint\\Documents\\Multitask Learning Re...</td>\n",
       "    </tr>\n",
       "    <tr>\n",
       "      <th>1</th>\n",
       "      <td>100</td>\n",
       "      <td>1</td>\n",
       "      <td>2</td>\n",
       "      <td>20170105174847679</td>\n",
       "      <td>C:\\Users\\shint\\Documents\\Multitask Learning Re...</td>\n",
       "    </tr>\n",
       "    <tr>\n",
       "      <th>2</th>\n",
       "      <td>100</td>\n",
       "      <td>1</td>\n",
       "      <td>2</td>\n",
       "      <td>20170110182836729</td>\n",
       "      <td>C:\\Users\\shint\\Documents\\Multitask Learning Re...</td>\n",
       "    </tr>\n",
       "    <tr>\n",
       "      <th>3</th>\n",
       "      <td>101</td>\n",
       "      <td>1</td>\n",
       "      <td>2</td>\n",
       "      <td>20170105174739309</td>\n",
       "      <td>C:\\Users\\shint\\Documents\\Multitask Learning Re...</td>\n",
       "    </tr>\n",
       "    <tr>\n",
       "      <th>4</th>\n",
       "      <td>10</td>\n",
       "      <td>0</td>\n",
       "      <td>0</td>\n",
       "      <td>20161220222308131</td>\n",
       "      <td>C:\\Users\\shint\\Documents\\Multitask Learning Re...</td>\n",
       "    </tr>\n",
       "  </tbody>\n",
       "</table>\n",
       "</div>"
      ],
      "text/plain": [
       "   Age Gender Race           DateTime  \\\n",
       "0  100      1    0  20170110183726390   \n",
       "1  100      1    2  20170105174847679   \n",
       "2  100      1    2  20170110182836729   \n",
       "3  101      1    2  20170105174739309   \n",
       "4   10      0    0  20161220222308131   \n",
       "\n",
       "                                            FilePath  \n",
       "0  C:\\Users\\shint\\Documents\\Multitask Learning Re...  \n",
       "1  C:\\Users\\shint\\Documents\\Multitask Learning Re...  \n",
       "2  C:\\Users\\shint\\Documents\\Multitask Learning Re...  \n",
       "3  C:\\Users\\shint\\Documents\\Multitask Learning Re...  \n",
       "4  C:\\Users\\shint\\Documents\\Multitask Learning Re...  "
      ]
     },
     "execution_count": 18,
     "metadata": {},
     "output_type": "execute_result"
    }
   ],
   "source": [
    "df.head(5)"
   ]
  },
  {
   "cell_type": "code",
   "execution_count": 19,
   "id": "fccae57d",
   "metadata": {},
   "outputs": [],
   "source": [
    "df['Age'] = df['Age'].astype(int)\n",
    "df['Gender'] = df['Gender'].astype(int)\n",
    "df['Race'] = df['Race'].astype(int)\n",
    "df['DateTime'] = pd.to_datetime(df['DateTime'], format='%Y%m%d%H%M%S%f')"
   ]
  },
  {
   "cell_type": "code",
   "execution_count": 20,
   "id": "b5b1291f",
   "metadata": {},
   "outputs": [
    {
     "data": {
      "text/html": [
       "<div>\n",
       "<style scoped>\n",
       "    .dataframe tbody tr th:only-of-type {\n",
       "        vertical-align: middle;\n",
       "    }\n",
       "\n",
       "    .dataframe tbody tr th {\n",
       "        vertical-align: top;\n",
       "    }\n",
       "\n",
       "    .dataframe thead th {\n",
       "        text-align: right;\n",
       "    }\n",
       "</style>\n",
       "<table border=\"1\" class=\"dataframe\">\n",
       "  <thead>\n",
       "    <tr style=\"text-align: right;\">\n",
       "      <th></th>\n",
       "      <th>Age</th>\n",
       "      <th>Gender</th>\n",
       "      <th>Race</th>\n",
       "      <th>DateTime</th>\n",
       "      <th>FilePath</th>\n",
       "    </tr>\n",
       "  </thead>\n",
       "  <tbody>\n",
       "    <tr>\n",
       "      <th>0</th>\n",
       "      <td>100</td>\n",
       "      <td>1</td>\n",
       "      <td>0</td>\n",
       "      <td>2017-01-10 18:37:26.390</td>\n",
       "      <td>C:\\Users\\shint\\Documents\\Multitask Learning Re...</td>\n",
       "    </tr>\n",
       "    <tr>\n",
       "      <th>1</th>\n",
       "      <td>100</td>\n",
       "      <td>1</td>\n",
       "      <td>2</td>\n",
       "      <td>2017-01-05 17:48:47.679</td>\n",
       "      <td>C:\\Users\\shint\\Documents\\Multitask Learning Re...</td>\n",
       "    </tr>\n",
       "    <tr>\n",
       "      <th>2</th>\n",
       "      <td>100</td>\n",
       "      <td>1</td>\n",
       "      <td>2</td>\n",
       "      <td>2017-01-10 18:28:36.729</td>\n",
       "      <td>C:\\Users\\shint\\Documents\\Multitask Learning Re...</td>\n",
       "    </tr>\n",
       "    <tr>\n",
       "      <th>3</th>\n",
       "      <td>101</td>\n",
       "      <td>1</td>\n",
       "      <td>2</td>\n",
       "      <td>2017-01-05 17:47:39.309</td>\n",
       "      <td>C:\\Users\\shint\\Documents\\Multitask Learning Re...</td>\n",
       "    </tr>\n",
       "    <tr>\n",
       "      <th>4</th>\n",
       "      <td>10</td>\n",
       "      <td>0</td>\n",
       "      <td>0</td>\n",
       "      <td>2016-12-20 22:23:08.131</td>\n",
       "      <td>C:\\Users\\shint\\Documents\\Multitask Learning Re...</td>\n",
       "    </tr>\n",
       "  </tbody>\n",
       "</table>\n",
       "</div>"
      ],
      "text/plain": [
       "   Age  Gender  Race                DateTime  \\\n",
       "0  100       1     0 2017-01-10 18:37:26.390   \n",
       "1  100       1     2 2017-01-05 17:48:47.679   \n",
       "2  100       1     2 2017-01-10 18:28:36.729   \n",
       "3  101       1     2 2017-01-05 17:47:39.309   \n",
       "4   10       0     0 2016-12-20 22:23:08.131   \n",
       "\n",
       "                                            FilePath  \n",
       "0  C:\\Users\\shint\\Documents\\Multitask Learning Re...  \n",
       "1  C:\\Users\\shint\\Documents\\Multitask Learning Re...  \n",
       "2  C:\\Users\\shint\\Documents\\Multitask Learning Re...  \n",
       "3  C:\\Users\\shint\\Documents\\Multitask Learning Re...  \n",
       "4  C:\\Users\\shint\\Documents\\Multitask Learning Re...  "
      ]
     },
     "execution_count": 20,
     "metadata": {},
     "output_type": "execute_result"
    }
   ],
   "source": [
    "df.head(5)"
   ]
  },
  {
   "cell_type": "code",
   "execution_count": 21,
   "id": "e6196046",
   "metadata": {},
   "outputs": [],
   "source": [
    "import tensorflow as tf\n",
    "from tensorflow.keras.preprocessing.image import img_to_array, load_img\n",
    "from sklearn.preprocessing import LabelEncoder"
   ]
  },
  {
   "cell_type": "code",
   "execution_count": 22,
   "id": "385663a0",
   "metadata": {},
   "outputs": [],
   "source": [
    "# Split train and test data.\n",
    "IMG_SIZE = (128, 128)\n",
    "BATCH_SIZE = 32"
   ]
  },
  {
   "cell_type": "code",
   "execution_count": 23,
   "id": "72e0d0c5",
   "metadata": {},
   "outputs": [],
   "source": [
    "label_encoders = {\n",
    "    'Gender': LabelEncoder(),\n",
    "    'Race': LabelEncoder()\n",
    "}\n",
    "\n",
    "df['Gender'] = label_encoders['Gender'].fit_transform(df['Gender'])\n",
    "df['Race'] = label_encoders['Race'].fit_transform(df['Race'])"
   ]
  },
  {
   "cell_type": "code",
   "execution_count": 24,
   "id": "0a39ba9d",
   "metadata": {},
   "outputs": [],
   "source": [
    "def preprocess_image(file_path):\n",
    "    image = load_img(file_path, target_size=IMG_SIZE)\n",
    "    image = img_to_array(image)\n",
    "    image = image / 255.0  # Normalize to [0, 1]\n",
    "    return image\n",
    "\n",
    "# Create TensorFlow dataset\n",
    "def load_data(df):\n",
    "    image_paths = df['FilePath'].values\n",
    "    ages = df['Age'].values\n",
    "    genders = df['Gender'].values\n",
    "    races = df['Race'].values\n",
    "\n",
    "    def generator():\n",
    "        for img_path, age, gender, race in zip(image_paths, ages, genders, races):\n",
    "            yield preprocess_image(img_path), (age, gender, race)\n",
    "\n",
    "    dataset = tf.data.Dataset.from_generator(\n",
    "        generator,\n",
    "        output_types=(tf.float32, (tf.int32, tf.int32, tf.int32)),\n",
    "        output_shapes=(tf.TensorShape(IMG_SIZE + (3,)), (tf.TensorShape([]), tf.TensorShape([]), tf.TensorShape([])))\n",
    "    )\n",
    "    return dataset"
   ]
  },
  {
   "cell_type": "code",
   "execution_count": 25,
   "id": "87f999fd",
   "metadata": {},
   "outputs": [],
   "source": [
    "dataset = load_data(df)\n",
    "dataset = dataset.batch(BATCH_SIZE).prefetch(buffer_size=tf.data.AUTOTUNE)"
   ]
  },
  {
   "cell_type": "code",
   "execution_count": null,
   "id": "fa1a9f08",
   "metadata": {},
   "outputs": [],
   "source": []
  }
 ],
 "metadata": {
  "kernelspec": {
   "display_name": "Python 3 (ipykernel)",
   "language": "python",
   "name": "python3"
  },
  "language_info": {
   "codemirror_mode": {
    "name": "ipython",
    "version": 3
   },
   "file_extension": ".py",
   "mimetype": "text/x-python",
   "name": "python",
   "nbconvert_exporter": "python",
   "pygments_lexer": "ipython3",
   "version": "3.11.5"
  }
 },
 "nbformat": 4,
 "nbformat_minor": 5
}
